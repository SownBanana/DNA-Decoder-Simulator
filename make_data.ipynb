{
 "cells": [
  {
   "cell_type": "code",
   "execution_count": 2,
   "metadata": {},
   "outputs": [],
   "source": [
    "%load_ext autoreload\n",
    "%autoreload 2"
   ]
  },
  {
   "cell_type": "code",
   "execution_count": 3,
   "metadata": {},
   "outputs": [],
   "source": [
    "from Models.Encoder import Encoder"
   ]
  },
  {
   "cell_type": "code",
   "execution_count": null,
   "metadata": {},
   "outputs": [],
   "source": [
    "path='data/10k450'\n",
    "en = Encoder()\n",
    "en.make_data(67, 0.04, 50, origin_numbers=10000, path=path, verbose=1000)\n",
    "origins, reads = en.load_data(path=path)\n",
    "origins.shape, reads.shape"
   ]
  },
  {
   "cell_type": "code",
   "execution_count": 10,
   "metadata": {},
   "outputs": [
    {
     "name": "stdout",
     "output_type": "stream",
     "text": [
      "0 TTGCTCACTTAGCTGTGTCTCTGAAGCTCAACTGAGCTGTAGACTATCAGCTAGTGTAGCTCAACTTGACGTAGCACTAGCTCACGTCTATCATCGACGAGCATGCGTCTACTCAGCTAGCGTCTAAGCACTCACTCACGTCTGTAGCTATCATAGTGAAGCTGTGCTAGCTGTGATCACAGCCACCTAGAGGATCATTAA\n",
      "(50,)\n",
      "500 TTGATGAGCCTGTGAAGCTAGCGTCTAAGCTAGCTGACACTAAGCTAGTGTAGCACAACTTCGCTAAGCCACCTAACTATCAGCTAGCGTCTAAGCGAGCACTGTACACTGTGACTATGAAGCTGTGCTAGCTACCTAACATGTTCACACACTTCAGACACGAGCCTCTGTATGAGCCTGTGAAGCTAGCGTCTAAGCTAA\n",
      "(50,)\n"
     ]
    },
    {
     "data": {
      "text/plain": [
       "((1000,), (1000, 50))"
      ]
     },
     "execution_count": 10,
     "metadata": {},
     "output_type": "execute_result"
    }
   ],
   "source": [
    "path='data/1k1050'\n",
    "en = Encoder()\n",
    "en.make_data(67, 0.1, 50, origin_numbers=1000, path=path, verbose=500)\n",
    "origins, reads = en.load_data(path=path)\n",
    "origins.shape, reads.shape"
   ]
  },
  {
   "cell_type": "code",
   "execution_count": 4,
   "metadata": {},
   "outputs": [
    {
     "name": "stdout",
     "output_type": "stream",
     "text": [
      "0 TTGCGTTGTATCTACAGCTAGCGTCTATGACTAAGCTAGCACGATTAGCGTTGAAGCTAGTGTAGCCATCTAAGCTGACTAATCGCTAAGCTAGTACTGTACCTACTCTAGCCGAGCTAGCGTACTTAGAGCACTATCATCAGCACACTACTCAGCACTCACCTAAGCTCACACCTAACTTAGCTATACAGCCTATATTAA\n",
      "(100,)\n"
     ]
    },
    {
     "data": {
      "text/plain": [
       "((200,), (200, 100))"
      ]
     },
     "execution_count": 4,
     "metadata": {},
     "output_type": "execute_result"
    }
   ],
   "source": [
    "path='data/20010100'\n",
    "en = Encoder()\n",
    "en.make_data(67, 0.1, 100, origin_numbers=200, path=path, verbose=1000)\n",
    "origins, reads = en.load_data(path=path)\n",
    "origins.shape, reads.shape"
   ]
  }
 ],
 "metadata": {
  "interpreter": {
   "hash": "e73b57c9aff0d047a53b09c47a9af82e2111452f7cd66b8558371cabf636a918"
  },
  "kernelspec": {
   "display_name": "Python 3.8.12 ('ai4e')",
   "language": "python",
   "name": "python3"
  },
  "language_info": {
   "codemirror_mode": {
    "name": "ipython",
    "version": 3
   },
   "file_extension": ".py",
   "mimetype": "text/x-python",
   "name": "python",
   "nbconvert_exporter": "python",
   "pygments_lexer": "ipython3",
   "version": "3.8.12"
  },
  "orig_nbformat": 4
 },
 "nbformat": 4,
 "nbformat_minor": 2
}

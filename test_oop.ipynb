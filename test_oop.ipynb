{
 "cells": [
  {
   "cell_type": "code",
   "execution_count": 35,
   "metadata": {},
   "outputs": [
    {
     "name": "stdout",
     "output_type": "stream",
     "text": [
      "The autoreload extension is already loaded. To reload it, use:\n",
      "  %reload_ext autoreload\n"
     ]
    }
   ],
   "source": [
    "%load_ext autoreload\n",
    "%autoreload 2"
   ]
  },
  {
   "cell_type": "code",
   "execution_count": 66,
   "metadata": {},
   "outputs": [],
   "source": [
    "from Models.DeBruijn.Graph import Graph\n",
    "from utils.converter import str2ncs, ncs2str"
   ]
  },
  {
   "cell_type": "code",
   "execution_count": 61,
   "metadata": {},
   "outputs": [
    {
     "data": {
      "text/plain": [
       "Vertex AACG - 4.0(0, 4): ACGG \n",
       "Vertex ACGG - 4.0(4, 4): CGGC \n",
       "Vertex CGGC - 8.0(8, 8): GGCT -> GGCG \n",
       "Vertex GGCG - 4.0(4, 4): GCGG \n",
       "Vertex GCGG - 4.0(4, 4): CGGC \n",
       "Vertex GGCT - 4.0(4, 4): GCTG \n",
       "Vertex GCTG - 4.0(4, 4): CTGT \n",
       "Vertex CTGT - 4.0(4, 0): None "
      ]
     },
     "execution_count": 61,
     "metadata": {},
     "output_type": "execute_result"
    }
   ],
   "source": [
    "datas = ['GAGCGATGTCTC', 'GAGTGATGTTC', 'GAGTGTTGTCTC']\n",
    "# datas = ['GAGTGTTGTCTC']\n",
    "datas = ['TAATGCCATGGGATGTT']\n",
    "datas = ['AAAGGCGTTGAGGTT']\n",
    "datas = ['AACGGCGGCTGT', 'AACGGCGGCTGT', 'AACGGCGGCTGT', 'AACGGCGGCTGT']\n",
    "# datas = ['AACGGCGGCTGT', 'AACGGCGACTGT', 'AACGGCGGCTGT', 'AACGGCGGCTGT']\n",
    "# datas = ['AACGGCGGCTGT', 'AACGTGCGACTGT', 'AACGGCGCTGT', 'AACGGCGGCTGT']\n",
    "\n",
    "graph = Graph(data = datas, data_length=12, kmer_size=4)\n",
    "graph.build()\n",
    "graph"
   ]
  },
  {
   "cell_type": "code",
   "execution_count": 65,
   "metadata": {},
   "outputs": [
    {
     "data": {
      "text/plain": [
       "['AACG', 'ACGG', 'CGGC', 'GGCG', 'GCGG', 'GGCT', 'GCTG', 'CTGT']"
      ]
     },
     "execution_count": 65,
     "metadata": {},
     "output_type": "execute_result"
    }
   ],
   "source": [
    "graph.get_vertexes()"
   ]
  },
  {
   "cell_type": "code",
   "execution_count": 74,
   "metadata": {},
   "outputs": [
    {
     "name": "stdout",
     "output_type": "stream",
     "text": [
      "TGATGTCTC\n",
      "PSON\n"
     ]
    }
   ],
   "source": [
    "ncs = str2ncs('Son')\n",
    "print(ncs)\n",
    "string = ncs2str('GAGTGATGTCTC')\n",
    "print(string)"
   ]
  },
  {
   "cell_type": "code",
   "execution_count": null,
   "metadata": {},
   "outputs": [],
   "source": []
  }
 ],
 "metadata": {
  "interpreter": {
   "hash": "e73b57c9aff0d047a53b09c47a9af82e2111452f7cd66b8558371cabf636a918"
  },
  "kernelspec": {
   "display_name": "Python 3.8.12 ('ai4e')",
   "language": "python",
   "name": "python3"
  },
  "language_info": {
   "codemirror_mode": {
    "name": "ipython",
    "version": 3
   },
   "file_extension": ".py",
   "mimetype": "text/x-python",
   "name": "python",
   "nbconvert_exporter": "python",
   "pygments_lexer": "ipython3",
   "version": "3.8.12"
  },
  "orig_nbformat": 4
 },
 "nbformat": 4,
 "nbformat_minor": 2
}

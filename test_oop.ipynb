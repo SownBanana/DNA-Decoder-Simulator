{
 "cells": [
  {
   "cell_type": "code",
   "execution_count": 1,
   "metadata": {},
   "outputs": [],
   "source": [
    "%load_ext autoreload\n",
    "%autoreload 2"
   ]
  },
  {
   "cell_type": "code",
   "execution_count": 2,
   "metadata": {},
   "outputs": [],
   "source": [
    "from Models.DeBruijn.Graph import Graph\n",
    "from Models.Decoder import Decoder\n",
    "from Models.Encoder import Encoder\n",
    "from utils.converter import str2ncs, ncs2str\n",
    "from utils.mutant import errors_add\n",
    "from Models.Decoder.Decoder import DFS, BFS, Beam, Path\n",
    "import time\n",
    "import numpy as np\n",
    "import math\n",
    "import sklearn\n"
   ]
  },
  {
   "cell_type": "code",
   "execution_count": 39,
   "metadata": {},
   "outputs": [
    {
     "name": "stdout",
     "output_type": "stream",
     "text": [
      "test test\n",
      "test testxyz\n"
     ]
    }
   ],
   "source": [
    "testp = Path(vertexes=['test'], weight=2)\n",
    "testcp = testp.copy()\n",
    "print(testp, testcp)\n",
    "testcp.vertexes.append('xyz')\n",
    "print(testp, testcp)\n"
   ]
  },
  {
   "cell_type": "code",
   "execution_count": 3,
   "metadata": {},
   "outputs": [
    {
     "name": "stdout",
     "output_type": "stream",
     "text": [
      "TTGCTCACTACAAGCTATGATTGTTCAAGCTGATGTCTCAGCCGTACTAGCCTCACTACAAGCTACCTAAGCTCAGATCCGAGCTAGGATGACCTATAGAGCCTCCGTCTGCTACTCAGCTACCTGCTCCGTAGCGAGCGTACTCTCAGCTAGACTCTGAGCTAGCGTCTGCTACTCAGCTAGCGTGATTAA\n"
     ]
    }
   ],
   "source": [
    "# original = str2ncs('$Pham Hong Son%')\n",
    "original = str2ncs('$Nam quoc son ha nam de cu, tuyet nhien dinh phan tai thien thu%')\n",
    "print(original)\n",
    "datas = errors_add(original, 0.1, 50)\n",
    "\n",
    "# original = 'TTGAACGGCGGCTGTTAA'\n",
    "# datas = ['TTGAACGGCGGCTGTTAA', 'TTGAACGGCGGCTGTTAA', 'TTGAACGGCGGCTGTTAA', 'TTGAACGGCGGCTGTTAA']\n",
    "# datas = ['TTGAACGGCGGCTGTTAA', 'TTGAACGGCGACTGTTAA', 'TTGAACGGCGGCTGTTAA', 'TTGAACGGCGGCTGTTAA']\n",
    "# datas = ['TTGAACGGCGGCTGTTAA', 'TTGAACGTGCGGCTGTTAA', 'TTGAACGGCGCTGTTAA', 'TTGAACGGCGGCTGTTAA']\n"
   ]
  },
  {
   "cell_type": "code",
   "execution_count": 48,
   "metadata": {},
   "outputs": [
    {
     "name": "stdout",
     "output_type": "stream",
     "text": [
      "TTGCTCACTACAAGCTATGATTGTTCAAGCTGATGTCTCAGCCGTACTAGCCTCACTACAAGCTACCTAAGCTCAGATCCGAGCTAGGATGACCTATAGAGCCTCCGTCTGCTACTCAGCTACCTGCTCCGTAGCGAGCGTACTCTCAGCTAGACTCTGAGCTAGCGTCTGCTACTCAGCTAGCGTGATTAA\n",
      "0.12570738792419434\n",
      "True\n",
      "0.08332300186157227\n",
      "True\n",
      "0.1287670135498047\n",
      "True\n"
     ]
    }
   ],
   "source": [
    "## BFS\n",
    "# error 10% 100 copy kmer 24 prune > 1 bfs 0.006s total 0.13s\n",
    "# error 1% 50 copy kmer 24 prune > 6 0.003s\n",
    "# error 4% 50 copy kmer 24 prune > 6 bfs 0.004s total 0.12s\n",
    "\n",
    "## Beam\n",
    "# k 50 kmer 24 ~ 0.14s\n",
    "\n",
    "# error 10% 50 copy kmer 24 prune > 1 BFS die, Beam 50 ok ~ 0.2s\n",
    "\n",
    "# original = str2ncs('$Pham Hong Son%')\n",
    "original = str2ncs('$Nam quoc son ha nam de cu, tuyet nhien dinh phan tai thien thu%')\n",
    "print(original)\n",
    "datas = errors_add(original, 0.04, 50)\n",
    "\n",
    "prune = 6\n",
    "decoder = Decoder(origin=original, prune=prune)\n",
    "start = time.time()\n",
    "decoder.build_graph(datas, len(original), kmer_size=24, visualization=False)\n",
    "# decoder.graph.draw_de_bruijn_graph(minimize_edge=True, weight_on=True)\n",
    "# decoder.graph.draw_de_bruijn_graph(pruned=True, minimize_edge=True, weight_on=True)\n",
    "rs = decoder.decode(BFS(min_weight=prune, db=0))\n",
    "# rs = decoder.decode(Beam(k=50, db=100))\n",
    "\n",
    "print(time.time() - start)\n",
    "print(rs[0])\n",
    "\n",
    "decoder = Decoder(origin=original, prune=prune)\n",
    "start = time.time()\n",
    "decoder.build_graph(datas, len(original), kmer_size=24, visualization=False)\n",
    "# decoder.graph.draw_de_bruijn_graph(minimize_edge=True, weight_on=True)\n",
    "# decoder.graph.draw_de_bruijn_graph(pruned=True, minimize_edge=True, weight_on=True)\n",
    "# rs = decoder.decode(BFS(min_weight=prune, db=100))\n",
    "rs = decoder.decode(Beam(k=20, db=0))\n",
    "\n",
    "print(time.time() - start)\n",
    "print(rs[0])\n",
    "\n",
    "prune = 1\n",
    "decoder = Decoder(origin=original, prune=prune)\n",
    "start = time.time()\n",
    "decoder.build_graph(datas, len(original), kmer_size=24, visualization=False)\n",
    "rs = decoder.decode()\n",
    "\n",
    "print(time.time() - start)\n",
    "print(rs[0])"
   ]
  },
  {
   "cell_type": "code",
   "execution_count": 95,
   "metadata": {},
   "outputs": [
    {
     "name": "stdout",
     "output_type": "stream",
     "text": [
      "TTGCTCACTACAAGCTATGATTGTTCAAGCTGATGTCTCAGCCGTACTAGCCTCACTACAAGCTACCTAAGCTCAGATCCGAGCTAGGATGACCTATAGAGCCTCCGTCTGCTACTCAGCTACCTGCTCCGTAGCGAGCGTACTCTCAGCTAGACTCTGAGCTAGCGTCTGCTACTCAGCTAGCGTGATTAA\n",
      "0.26685261726379395\n",
      "True\n",
      "0.22834157943725586\n",
      "True\n",
      "0.19065260887145996\n",
      "True\n"
     ]
    }
   ],
   "source": [
    "original = str2ncs('$Pham Hong Son%')\n",
    "original = str2ncs('$Nam quoc son ha nam de cu, tuyet nhien dinh phan tai thien thu%')\n",
    "print(original)\n",
    "datas = errors_add(original, 0.1, 100)\n",
    "\n",
    "prune = 1\n",
    "decoder = Decoder(origin=original, prune=prune)\n",
    "start = time.time()\n",
    "decoder.build_graph(datas, len(original), kmer_size=24, visualization=False)\n",
    "rs = decoder.decode(BFS(min_weight=prune, db=0))\n",
    "\n",
    "print(time.time() - start)\n",
    "print(rs[0])\n",
    "\n",
    "decoder = Decoder(origin=original, prune=prune)\n",
    "start = time.time()\n",
    "decoder.build_graph(datas, len(original), kmer_size=24, visualization=False)\n",
    "rs = decoder.decode(Beam(k=20, db=0))\n",
    "\n",
    "print(time.time() - start)\n",
    "print(rs[0])\n",
    "\n",
    "# prune = 6\n",
    "decoder = Decoder(origin=original, prune=prune)\n",
    "start = time.time()\n",
    "decoder.build_graph(datas, len(original), kmer_size=24, visualization=False)\n",
    "rs = decoder.decode()\n",
    "\n",
    "print(time.time() - start)\n",
    "print(rs[0])"
   ]
  },
  {
   "cell_type": "code",
   "execution_count": null,
   "metadata": {},
   "outputs": [],
   "source": [
    "decoder.graph.draw_de_bruijn_graph(minimize_edge=True, weight_on=True)\n",
    "decoder.graph.draw_de_bruijn_graph(pruned=True, minimize_edge=True, weight_on=False)\n"
   ]
  },
  {
   "cell_type": "code",
   "execution_count": null,
   "metadata": {},
   "outputs": [],
   "source": [
    "# TTGAACGGCGGCTGTTAA\n",
    "# TTGAACGGCGACTGTTAA\n",
    "# TTGAACGGCGACTGTTAA"
   ]
  },
  {
   "cell_type": "code",
   "execution_count": null,
   "metadata": {},
   "outputs": [],
   "source": [
    "# datas = ['GAGCGATGTCTC', 'GAGTGATGTTC', 'GAGTGTTGTCTC']\n",
    "# datas = ['GAGTGTTGTCTC']\n",
    "# datas = ['TAATGCCATGGGATGTT']\n",
    "# datas = ['AAAGGCGTTGAGGTT']\n",
    "original = 'AACGGCGGCTGT'\n",
    "datas = ['AACGGCGGCTGT', 'AACGGCGGCTGT', 'AACGGCGGCTGT', 'AACGGCGGCTGT']\n",
    "datas = ['AACGGCGGCTGT', 'AACGGCGACTGT', 'AACGGCGGCTGT', 'AACGGCGGCTGT']\n",
    "datas = ['AACGGCGGCTGT', 'AACGTGCGGCTGT', 'AACGGCGCTGT', 'AACGGCGGCTGT']\n",
    "\n",
    "original = str2ncs('$Pham Son%')\n",
    "print(original)\n",
    "datas = errors_add(original, 0.1, 20)\n",
    "\n",
    "graph = Graph(data = datas, data_length=len(original), kmer_size=15)\n",
    "graph.build()\n",
    "graph.draw_de_bruijn_graph(weight_on=False, minimize_edge=True, font_size=8)\n",
    "\n",
    "graph"
   ]
  },
  {
   "cell_type": "code",
   "execution_count": null,
   "metadata": {},
   "outputs": [],
   "source": [
    "datas"
   ]
  },
  {
   "cell_type": "code",
   "execution_count": null,
   "metadata": {},
   "outputs": [],
   "source": [
    "graph.get_vertexes()"
   ]
  },
  {
   "cell_type": "code",
   "execution_count": 13,
   "metadata": {},
   "outputs": [
    {
     "name": "stdout",
     "output_type": "stream",
     "text": [
      "TTGGAGCGTACTACAAGCTGATGTCTCTAA\n",
      "PSON\n"
     ]
    }
   ],
   "source": [
    "ncs = str2ncs('$Pham Son%')\n",
    "print(ncs)\n",
    "string = ncs2str('GAGTGATGTCTC')\n",
    "print(string)"
   ]
  },
  {
   "cell_type": "code",
   "execution_count": 11,
   "metadata": {},
   "outputs": [
    {
     "data": {
      "text/plain": [
       "{'foo': 'new', 'spam': 'eggs'}"
      ]
     },
     "execution_count": 11,
     "metadata": {},
     "output_type": "execute_result"
    }
   ],
   "source": [
    "my_dict = {'foo': 'bar', 'spam': 'eggs'}\n",
    "my_dict.update({'foo': 'new'})\n",
    "my_dict"
   ]
  },
  {
   "cell_type": "code",
   "execution_count": 43,
   "metadata": {},
   "outputs": [
    {
     "data": {
      "text/plain": [
       "[9, 7, 5.5, 4, 1]"
      ]
     },
     "execution_count": 43,
     "metadata": {},
     "output_type": "execute_result"
    }
   ],
   "source": [
    "a = [1, 5.5, 7, 4, 9]\n",
    "a.sort(reverse=True)\n",
    "a"
   ]
  },
  {
   "cell_type": "code",
   "execution_count": 33,
   "metadata": {},
   "outputs": [
    {
     "data": {
      "text/plain": [
       "['$will not be satisfied until \"justice rolls down like waters, and %',\n",
       " '$e content of their character. I have a dream today! I have a drea%',\n",
       " '$merica of the fierce urgency of Now. This is no time to engage in%',\n",
       " '$umn of freedom and equality. Nineteen sixty-three is not an end, %',\n",
       " '$as a joyous daybreak to end the long night of their captivity. Bu%',\n",
       " '$g night of their captivity. But one hundred years later, the Negr%',\n",
       " '$ering with the heat of injustice, sweltering with the heat of opp%',\n",
       " '$l always march ahead. We cannot turn back. There are those who ar%',\n",
       " '$But we refuse to believe that the bank of justice is bankrupt. We%',\n",
       " '$ black men and white men, Jews and Gentiles, Protestants and Cath%']"
      ]
     },
     "execution_count": 33,
     "metadata": {},
     "output_type": "execute_result"
    }
   ],
   "source": [
    "en = Encoder()\n",
    "\n",
    "rs = en.get_parts(67, 10)\n",
    "rs"
   ]
  },
  {
   "cell_type": "code",
   "execution_count": 29,
   "metadata": {},
   "outputs": [
    {
     "data": {
      "text/plain": [
       "(10000, 67)"
      ]
     },
     "execution_count": 29,
     "metadata": {},
     "output_type": "execute_result"
    }
   ],
   "source": [
    "len(rs), len(rs[0])"
   ]
  },
  {
   "cell_type": "code",
   "execution_count": 23,
   "metadata": {},
   "outputs": [
    {
     "data": {
      "text/plain": [
       "(10,)"
      ]
     },
     "execution_count": 23,
     "metadata": {},
     "output_type": "execute_result"
    }
   ],
   "source": [
    "rs = np.array(rs)\n",
    "rs.shape"
   ]
  },
  {
   "cell_type": "code",
   "execution_count": 34,
   "metadata": {},
   "outputs": [
    {
     "data": {
      "text/plain": [
       "array([ True,  True,  True,  True,  True,  True,  True,  True,  True,\n",
       "        True])"
      ]
     },
     "execution_count": 34,
     "metadata": {},
     "output_type": "execute_result"
    }
   ],
   "source": [
    "path = 'data'\n",
    "np.save(f'{path}/origin.npy', rs)  \n",
    "d = np.load(f'{path}/origin.npy')\n",
    "rs == d"
   ]
  },
  {
   "cell_type": "code",
   "execution_count": 42,
   "metadata": {},
   "outputs": [
    {
     "name": "stdout",
     "output_type": "stream",
     "text": [
      "0 $will not be satisfied until \"justice rolls down like waters, and % TTGATGCTGATCATCAGCCTCTGTTAGAGCCATCTAAGCTGAACTTAGCTGTGAGCTCTGCTATACAGCGATCTCTAGCTGATCAGCTTATGCGATTGATAGCTGTCACTAAGCCACTGTATCATCTGAAGCTACTGTATGCTCAGCATCCTGTCGCTAAGCATGACTTAGCTACACTGACCGAGCACTCTCTACAGCTAA\n",
      "(50,)\n",
      "1 $e content of their character. I have a dream today! I have a drea% TTGCTAAGCTCATGTCTCTAGCTACTCTAGAGCTGTGCTAGCTAGCGTCTACTGCACAGCTCACGTACTCACACTTCATAGCTACACACGAGCCTGAGCCGTACTGTACTAAGCACTAGCTACCACCTAACTACAAGCTAGTGTTACACTGACAATAGCCTGAGCCGTACTGTACTAAGCACTAGCTACCACCTAACTTAA\n",
      "(50,)\n",
      "2 $merica of the fierce urgency of Now. This is no time to engage in% TTGACACTACACCTGTCAACTAGCTGTGCTAGCTAGCGTCTAAGCGCTCTGCTACACTCACTAAGCGATCACGTCCTACTCTCAGACAGCTGTGCTAGCCTCTGTATGACGAGCTAGCGTCTGTGAAGCCTGTGAAGCCTCTGTAGCTAGCTGACACTAAGCTAGTGTAGCCTACTCGTCACTGTCCTAAGCCTGCTCTAA\n",
      "(50,)\n",
      "3 $umn of freedom and equality. Nineteen sixty-three is not an end, % TTGGATACACTCAGCTGTGCTAGCGCTCACCTACTATACTGTACAAGCACTCTCTACAGCCTATATGATACTATCCTGTAGGACACGAGCCTCCTGCTCCTATAGCTACTACTCAGCTGACTGAGTTAGGACAAGTAGCGTCACCTACTAAGCCTGTGAAGCCTCTGTTAGAGCACTCTCAGCCTACTCTACCCGAGCTAA\n",
      "(50,)\n",
      "4 $as a joyous daybreak to end the long night of their captivity. Bu% TTGACTTGAAGCACTAGCTGCTGTGACTGTGATTGAAGCTACACTGACCATCACCTAACTTCGAGCTAGTGTAGCCTACTCTACAGCTAGCGTCTAAGCATCTGTCTCGTCAGCCTCCTGGTCCGTTAGAGCTGTGCTAGCTAGCGTCTACTGCACAGCTCAACTGAGTAGCTGGTACTGTAGGACACGAGCCATGATTAA\n",
      "(50,)\n",
      "5 $g night of their captivity. But one hundred years later, the Negr% TTGGTCAGCCTCCTGGTCCGTTAGAGCTGTGCTAGCTAGCGTCTACTGCACAGCTCAACTGAGTAGCTGGTACTGTAGGACACGAGCCATGATTAGAGCTGTCTCCTAAGCCGTGATCTCTACCACCTATACAGCGACCTAACTCACTGAAGCATCACTTAGCTACACCCGAGCTAGCGTCTAAGCCTCCTAGTCCACTAA\n",
      "(50,)\n",
      "6 $ering with the heat of injustice, sweltering with the heat of opp% TTGCTACACCTGCTCGTCAGCATGCTGTAGCGTAGCTAGCGTCTAAGCCGTCTAACTTAGAGCTGTGCTAGCCTGCTCTGCGATTGATAGCTGTCACTACCGAGCTGAATGCTAATCTAGCTACACCTGCTCGTCAGCATGCTGTAGCGTAGCTAGCGTCTAAGCCGTCTAACTTAGAGCTGTGCTAGCTGTGAGGAGTAA\n",
      "(50,)\n",
      "7 $l always march ahead. We cannot turn back. There are those who ar% TTGATCAGCACTATCATGACTGACTGAAGCACAACTCACTCACGTAGCACTCGTCTAACTTACACGAGCATGCTAAGCTCAACTCTCCTCTGTTAGAGCTAGGATCACCTCAGCCATACTTCATCGACGAGCTAGCGTCTACACCTAAGCACTCACCTAAGCTAGCGTTGTTGACTAAGCATGCGTTGTAGCACTCACTAA\n",
      "(50,)\n",
      "8 $But we refuse to believe that the bank of justice is bankrupt. We% TTGCATGATTAGAGCATGCTAAGCCACCTAGCTGATTGACTAAGCTAGTGTAGCCATCTAATCCTGCTAGTACTAAGCTAGCGTACTTAGAGCTAGCGTCTAAGCCATACTCTCTCGAGCTGTGCTAGCTGCGATTGATAGCTGTCACTAAGCCTGTGAAGCCATACTCTCTCGCACGATGAGTAGACGAGCATGCTATAA\n",
      "(50,)\n",
      "9 $ black men and white men, Jews and Gentiles, Protestants and Cath% TTGAGCCATATCACTTCATCGAGCACACTACTCAGCACTCTCTACAGCATGCGTCTGTAGCTAAGCACACTACTCCCGAGCTGCCTAATGTGAAGCACTCTCTACAGCGTCCTACTCTAGCTGATCCTATGACCGAGCGAGCACTGTTAGCTATGATAGACTCTCTAGTGAAGCACTCTCTACAGCTCAACTTAGCGTTAA\n",
      "(50,)\n"
     ]
    },
    {
     "data": {
      "text/plain": [
       "(10, 50)"
      ]
     },
     "execution_count": 42,
     "metadata": {},
     "output_type": "execute_result"
    }
   ],
   "source": [
    "reads = []\n",
    "for i, o in enumerate(rs):\n",
    "    print(i, o, str2ncs(o))\n",
    "    o = str2ncs(o)\n",
    "    datas = errors_add(o, 0.04, 50)\n",
    "    datas = np.array(datas)\n",
    "    print(datas.shape)\n",
    "    reads.append(datas)\n",
    "reads = np.array(reads)\n",
    "reads.shape\n"
   ]
  },
  {
   "cell_type": "code",
   "execution_count": 75,
   "metadata": {},
   "outputs": [
    {
     "data": {
      "text/plain": [
       "((1000,), (1000, 100))"
      ]
     },
     "execution_count": 75,
     "metadata": {},
     "output_type": "execute_result"
    }
   ],
   "source": [
    "# 1k1050 10k450 1k0350 1k03100 1k01100\n",
    "en = Encoder()\n",
    "origins, reads = en.load_data(path='data/1k01100')\n",
    "origins.shape, reads.shape"
   ]
  },
  {
   "cell_type": "code",
   "execution_count": 80,
   "metadata": {},
   "outputs": [
    {
     "name": "stdout",
     "output_type": "stream",
     "text": [
      "kmer_size: 50 prune: 4\n",
      "0: 0.002s 0.002s 100.0%\n",
      "10: 0.002s 0.031s 100.0%\n",
      "20: 0.002s 0.057s 100.0%\n",
      "30: 0.003s 0.083s 100.0%\n",
      "40: 0.002s 0.105s 100.0%\n",
      "50: 0.002s 0.127s 100.0%\n",
      "60: 0.002s 0.15s 100.0%\n",
      "70: 0.002s 0.178s 100.0%\n",
      "80: 0.003s 0.205s 100.0%\n",
      "90: 0.002s 0.234s 100.0%\n",
      "100: 0.002s 0.257s 100.0%\n",
      "110: 0.002s 0.282s 100.0%\n",
      "120: 0.002s 0.304s 100.0%\n",
      "130: 0.003s 0.33s 100.0%\n",
      "140: 0.002s 0.354s 100.0%\n",
      "150: 0.002s 0.379s 100.0%\n",
      "160: 0.002s 0.401s 100.0%\n",
      "170: 0.002s 0.424s 100.0%\n",
      "180: 0.002s 0.451s 100.0%\n",
      "190: 0.002s 0.477s 100.0%\n",
      "200: 0.002s 0.5s 100.0%\n",
      "210: 0.004s 0.524s 100.0%\n",
      "220: 0.003s 0.547s 100.0%\n",
      "230: 0.002s 0.573s 100.0%\n",
      "240: 0.002s 0.6s 100.0%\n",
      "250: 0.002s 0.631s 99.6016%\n",
      "260: 0.002s 0.657s 99.6169%\n",
      "270: 0.002s 0.68s 99.631%\n",
      "280: 0.002s 0.704s 99.6441%\n",
      "290: 0.003s 0.729s 99.6564%\n",
      "300: 0.002s 0.76s 99.6678%\n",
      "310: 0.002s 0.784s 99.6785%\n",
      "320: 0.003s 0.812s 99.6885%\n",
      "330: 0.002s 0.833s 99.6979%\n",
      "340: 0.003s 0.855s 99.7067%\n",
      "350: 0.003s 0.888s 99.7151%\n",
      "360: 0.002s 0.91s 99.723%\n",
      "370: 0.005s 0.935s 99.7305%\n",
      "380: 0.002s 0.957s 99.7375%\n",
      "390: 0.002s 0.978s 99.7442%\n",
      "400: 0.002s 1.0s 99.7506%\n",
      "410: 0.002s 1.023s 99.7567%\n",
      "420: 0.002s 1.048s 99.7625%\n",
      "430: 0.002s 1.073s 99.768%\n",
      "440: 0.004s 1.098s 99.7732%\n",
      "450: 0.005s 1.137s 99.7783%\n",
      "460: 0.003s 1.166s 99.7831%\n",
      "470: 0.003s 1.194s 99.7877%\n",
      "480: 0.003s 1.222s 99.7921%\n",
      "490: 0.003s 1.248s 99.7963%\n",
      "500: 0.002s 1.275s 99.8004%\n",
      "510: 0.003s 1.298s 99.8043%\n",
      "520: 0.002s 1.333s 99.8081%\n",
      "530: 0.004s 1.363s 99.8117%\n",
      "540: 0.004s 1.39s 99.8152%\n",
      "550: 0.002s 1.412s 99.8185%\n",
      "560: 0.002s 1.435s 99.8217%\n",
      "570: 0.002s 1.459s 99.8249%\n",
      "580: 0.002s 1.485s 99.8279%\n",
      "590: 0.003s 1.511s 99.8308%\n",
      "600: 0.003s 1.539s 99.8336%\n",
      "610: 0.008s 1.566s 99.8363%\n",
      "620: 0.003s 1.59s 99.839%\n",
      "630: 0.004s 1.612s 99.8415%\n",
      "640: 0.002s 1.637s 99.844%\n",
      "650: 0.002s 1.659s 99.8464%\n",
      "660: 0.002s 1.681s 99.8487%\n",
      "670: 0.002s 1.705s 99.851%\n",
      "680: 0.002s 1.732s 99.8532%\n",
      "690: 0.005s 1.757s 99.8553%\n",
      "700: 0.003s 1.783s 99.8573%\n",
      "710: 0.007s 1.815s 99.8594%\n",
      "720: 0.003s 1.844s 99.8613%\n",
      "730: 0.002s 1.867s 99.8632%\n",
      "740: 0.002s 1.899s 99.865%\n",
      "750: 0.003s 1.93s 99.7337%\n",
      "760: 0.002s 1.954s 99.7372%\n",
      "770: 0.003s 1.986s 99.7406%\n",
      "780: 0.002s 2.008s 99.7439%\n",
      "790: 0.002s 2.036s 99.7472%\n",
      "800: 0.002s 2.058s 99.7503%\n",
      "810: 0.002s 2.086s 99.7534%\n",
      "820: 0.002s 2.111s 99.7564%\n",
      "830: 0.002s 2.135s 99.7593%\n",
      "840: 0.002s 2.161s 99.7622%\n",
      "850: 0.002s 2.183s 99.765%\n",
      "860: 0.002s 2.212s 99.6516%\n",
      "870: 0.003s 2.238s 99.6556%\n",
      "880: 0.002s 2.263s 99.6595%\n",
      "890: 0.002s 2.291s 99.6633%\n",
      "900: 0.004s 2.318s 99.667%\n",
      "910: 0.003s 2.345s 99.6707%\n",
      "920: 0.002s 2.372s 99.6743%\n",
      "930: 0.002s 2.396s 99.6778%\n",
      "940: 0.003s 2.425s 99.6812%\n",
      "950: 0.003s 2.45s 99.6845%\n",
      "960: 0.002s 2.478s 99.6878%\n",
      "970: 0.004s 2.505s 99.691%\n",
      "980: 0.002s 2.529s 99.5923%\n",
      "990: 0.003s 2.554s 99.5964%\n"
     ]
    }
   ],
   "source": [
    "prune = 4\n",
    "kmer_size = 50\n",
    "total_time = 0\n",
    "bfs_results = []\n",
    "print(f'kmer_size: {kmer_size} prune: {prune}')\n",
    "for i, original in enumerate(origins):\n",
    "    decoder = Decoder(origin=original, prune=prune)\n",
    "    decoder.build_graph(reads[i], len(original), kmer_size=kmer_size, visualization=False)\n",
    "    start = time.time()\n",
    "    rs = decoder.decode(BFS(min_weight=prune, db=0))\n",
    "    ttt = time.time() - start\n",
    "    total_time += round(ttt, 3)\n",
    "    bfs_results.append(rs[0])\n",
    "    if i%10 == 0:\n",
    "        print(f'{i}: {round(ttt, 3)}s {round(total_time, 3)}s {round(np.array(bfs_results).sum()*100/(i+1), 4)}%')\n",
    "\n",
    "# i = 0\n",
    "# original = str2ncs(origins[i])\n",
    "# decoder = Decoder(origin=original, prune=prune)\n",
    "# decoder.build_graph(reads[i], len(original), kmer_size=24, visualization=False)\n",
    "# # decoder.graph.draw_de_bruijn_graph(pruned=True, minimize_edge=True, weight_on=True, node_size=2)\n",
    "# # decoder.graph.draw_de_bruijn_graph(minimize_edge=True, weight_on=True, node_size=2)\n",
    "# start = time.time()\n",
    "# rs = decoder.decode(BFS(min_weight=prune, db=1000))\n",
    "# print(time.time() - start)\n",
    "# print(rs)"
   ]
  },
  {
   "cell_type": "code",
   "execution_count": 82,
   "metadata": {},
   "outputs": [
    {
     "name": "stdout",
     "output_type": "stream",
     "text": [
      "kmer_size: 50 k: 40\n",
      "0: 0.057s 0.057s 100.0%\n",
      "10: 0.058s 0.618s 100.0%\n",
      "20: 0.057s 1.18s 100.0%\n",
      "30: 0.05s 1.727s 100.0%\n",
      "40: 0.055s 2.294s 100.0%\n",
      "50: 0.054s 2.912s 100.0%\n",
      "60: 0.06s 3.499s 100.0%\n",
      "70: 0.056s 4.079s 100.0%\n",
      "80: 0.049s 4.618s 100.0%\n",
      "90: 0.055s 5.232s 100.0%\n",
      "100: 0.06s 5.821s 100.0%\n",
      "110: 0.053s 6.36s 100.0%\n",
      "120: 0.053s 6.902s 100.0%\n",
      "130: 0.081s 7.536s 100.0%\n",
      "140: 0.058s 8.138s 100.0%\n",
      "150: 0.055s 8.688s 100.0%\n",
      "160: 0.052s 9.225s 100.0%\n",
      "170: 0.056s 9.793s 100.0%\n",
      "180: 0.054s 10.357s 100.0%\n",
      "190: 0.056s 10.889s 100.0%\n",
      "200: 0.057s 11.431s 100.0%\n",
      "210: 0.047s 11.976s 100.0%\n",
      "220: 0.053s 12.521s 100.0%\n",
      "230: 0.055s 13.055s 100.0%\n",
      "240: 0.068s 13.622s 100.0%\n",
      "250: 0.054s 14.176s 100.0%\n",
      "260: 0.055s 14.729s 100.0%\n",
      "270: 0.056s 15.301s 100.0%\n",
      "280: 0.054s 15.862s 100.0%\n",
      "290: 0.056s 16.415s 100.0%\n",
      "300: 0.054s 16.932s 100.0%\n",
      "310: 0.052s 17.475s 100.0%\n",
      "320: 0.055s 18.018s 100.0%\n",
      "330: 0.06s 18.589s 100.0%\n",
      "340: 0.055s 19.178s 100.0%\n",
      "350: 0.05s 19.711s 100.0%\n",
      "360: 0.055s 20.263s 100.0%\n",
      "370: 0.054s 20.811s 100.0%\n",
      "380: 0.057s 21.36s 100.0%\n",
      "390: 0.059s 21.904s 100.0%\n",
      "400: 0.056s 22.446s 100.0%\n",
      "410: 0.055s 22.999s 100.0%\n",
      "420: 0.057s 23.559s 100.0%\n",
      "430: 0.057s 24.138s 100.0%\n",
      "440: 0.056s 24.72s 100.0%\n",
      "450: 0.054s 25.248s 100.0%\n",
      "460: 0.056s 25.804s 100.0%\n",
      "470: 0.048s 26.339s 100.0%\n",
      "480: 0.055s 26.882s 100.0%\n",
      "490: 0.053s 27.428s 100.0%\n",
      "500: 0.054s 27.971s 100.0%\n",
      "510: 0.058s 28.55s 100.0%\n",
      "520: 0.054s 29.099s 100.0%\n",
      "530: 0.054s 29.623s 100.0%\n",
      "540: 0.051s 30.159s 100.0%\n",
      "550: 0.056s 30.727s 100.0%\n",
      "560: 0.061s 31.286s 100.0%\n",
      "570: 0.056s 31.833s 100.0%\n",
      "580: 0.054s 32.41s 100.0%\n",
      "590: 0.057s 32.964s 100.0%\n",
      "600: 0.055s 33.519s 100.0%\n",
      "610: 0.053s 34.061s 100.0%\n",
      "620: 0.055s 34.611s 100.0%\n",
      "630: 0.052s 35.165s 100.0%\n",
      "640: 0.054s 35.713s 100.0%\n",
      "650: 0.049s 36.257s 100.0%\n",
      "660: 0.053s 36.809s 100.0%\n",
      "670: 0.056s 37.318s 99.851%\n",
      "680: 0.054s 37.848s 99.8532%\n",
      "690: 0.059s 38.383s 99.8553%\n",
      "700: 0.055s 38.929s 99.8573%\n",
      "710: 0.05s 39.521s 99.8594%\n",
      "720: 0.058s 40.087s 99.8613%\n",
      "730: 0.053s 40.646s 99.8632%\n",
      "740: 0.047s 41.187s 99.865%\n",
      "750: 0.056s 41.747s 99.7337%\n",
      "760: 0.061s 42.314s 99.7372%\n",
      "770: 0.049s 42.87s 99.7406%\n",
      "780: 0.052s 43.474s 99.7439%\n",
      "790: 0.053s 44.03s 99.7472%\n",
      "800: 0.052s 44.574s 99.7503%\n",
      "810: 0.056s 45.14s 99.7534%\n",
      "820: 0.055s 45.703s 99.7564%\n",
      "830: 0.057s 46.265s 99.639%\n",
      "840: 0.055s 46.817s 99.6433%\n",
      "850: 0.057s 47.383s 99.6475%\n",
      "860: 0.058s 47.909s 99.5354%\n",
      "870: 0.054s 48.465s 99.5408%\n",
      "880: 0.055s 49.008s 99.546%\n",
      "890: 0.053s 49.549s 99.5511%\n",
      "900: 0.057s 50.107s 99.556%\n",
      "910: 0.059s 50.641s 99.5609%\n",
      "920: 0.054s 51.168s 99.4571%\n",
      "930: 0.053s 51.717s 99.4629%\n",
      "940: 0.055s 52.262s 99.3624%\n",
      "950: 0.054s 52.81s 99.3691%\n",
      "960: 0.053s 53.337s 99.3757%\n",
      "970: 0.052s 53.889s 99.3821%\n",
      "980: 0.051s 54.437s 99.3884%\n",
      "990: 0.055s 54.996s 99.3946%\n"
     ]
    }
   ],
   "source": [
    "prune = 6\n",
    "k = 40\n",
    "kmer_size=50\n",
    "total_time = 0\n",
    "beam_results = []\n",
    "print(f'kmer_size: {kmer_size} k: {k}')\n",
    "for i, original in enumerate(origins):\n",
    "    decoder = Decoder(origin=original, prune=prune)\n",
    "    decoder.build_graph(reads[i], len(original), kmer_size=kmer_size, visualization=False)\n",
    "    start = time.time()\n",
    "    rs = decoder.decode(Beam(k=k, db=0))\n",
    "    ttt = time.time() - start\n",
    "    total_time += round(ttt, 3)\n",
    "    beam_results.append(rs[0])\n",
    "    if i%10 == 0:\n",
    "        print(f'{i}: {round(ttt, 3)}s {round(total_time, 3)}s {round(np.array(beam_results).sum()*100/(i+1), 4)}%')\n"
   ]
  }
 ],
 "metadata": {
  "interpreter": {
   "hash": "e73b57c9aff0d047a53b09c47a9af82e2111452f7cd66b8558371cabf636a918"
  },
  "kernelspec": {
   "display_name": "Python 3.8.12 ('ai4e')",
   "language": "python",
   "name": "python3"
  },
  "language_info": {
   "codemirror_mode": {
    "name": "ipython",
    "version": 3
   },
   "file_extension": ".py",
   "mimetype": "text/x-python",
   "name": "python",
   "nbconvert_exporter": "python",
   "pygments_lexer": "ipython3",
   "version": "3.8.12"
  },
  "orig_nbformat": 4
 },
 "nbformat": 4,
 "nbformat_minor": 2
}

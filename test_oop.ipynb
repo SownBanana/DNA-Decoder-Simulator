{
 "cells": [
  {
   "cell_type": "code",
   "execution_count": 12,
   "metadata": {},
   "outputs": [],
   "source": [
    "%load_ext autoreload\n",
    "%autoreload 2"
   ]
  },
  {
   "cell_type": "code",
   "execution_count": 31,
   "metadata": {},
   "outputs": [],
   "source": [
    "from Models.DeBruijn.Graph import Graph\n",
    "from Models.Decoder import Decoder\n",
    "from utils.converter import str2ncs, ncs2str\n",
    "from utils.mutant import errors_add\n",
    "from Models.Decoder.Decoder import DFS, BFS, Beam, Path\n",
    "import time\n"
   ]
  },
  {
   "cell_type": "code",
   "execution_count": 35,
   "metadata": {},
   "outputs": [
    {
     "data": {
      "text/plain": [
       "(1, 2)"
      ]
     },
     "execution_count": 35,
     "metadata": {},
     "output_type": "execute_result"
    }
   ],
   "source": [
    "a = 1\n",
    "b = a\n",
    "b = 2\n",
    "a, b"
   ]
  },
  {
   "cell_type": "code",
   "execution_count": 39,
   "metadata": {},
   "outputs": [
    {
     "name": "stdout",
     "output_type": "stream",
     "text": [
      "test test\n",
      "test testxyz\n"
     ]
    }
   ],
   "source": [
    "testp = Path(vertexes=['test'], weight=2)\n",
    "testcp = testp.copy()\n",
    "print(testp, testcp)\n",
    "testcp.vertexes.append('xyz')\n",
    "print(testp, testcp)\n"
   ]
  },
  {
   "cell_type": "code",
   "execution_count": 197,
   "metadata": {},
   "outputs": [
    {
     "name": "stdout",
     "output_type": "stream",
     "text": [
      "TTGCTCACTACAAGCTATGATTGTTCAAGCTGATGTCTCAGCCGTACTAGCCTCACTACAAGCTACCTAAGCTCAGATCCGAGCTAGGATGACCTATAGAGCCTCCGTCTGCTACTCAGCTACCTGCTCCGTAGCGAGCGTACTCTCAGCTAGACTCTGAGCTAGCGTCTGCTACTCAGCTAGCGTGATTAA\n"
     ]
    }
   ],
   "source": [
    "# original = str2ncs('$Pham Hong Son%')\n",
    "original = str2ncs('$Nam quoc son ha nam de cu, tuyet nhien dinh phan tai thien thu%')\n",
    "print(original)\n",
    "datas = errors_add(original, 0.1, 50)\n",
    "\n",
    "# original = 'TTGAACGGCGGCTGTTAA'\n",
    "# datas = ['TTGAACGGCGGCTGTTAA', 'TTGAACGGCGGCTGTTAA', 'TTGAACGGCGGCTGTTAA', 'TTGAACGGCGGCTGTTAA']\n",
    "# datas = ['TTGAACGGCGGCTGTTAA', 'TTGAACGGCGACTGTTAA', 'TTGAACGGCGGCTGTTAA', 'TTGAACGGCGGCTGTTAA']\n",
    "# datas = ['TTGAACGGCGGCTGTTAA', 'TTGAACGTGCGGCTGTTAA', 'TTGAACGGCGCTGTTAA', 'TTGAACGGCGGCTGTTAA']\n"
   ]
  },
  {
   "cell_type": "code",
   "execution_count": 308,
   "metadata": {},
   "outputs": [
    {
     "name": "stdout",
     "output_type": "stream",
     "text": [
      "TTGCTCACTACAAGCTATGATTGTTCAAGCTGATGTCTCAGCCGTACTAGCCTCACTACAAGCTACCTAAGCTCAGATCCGAGCTAGGATGACCTATAGAGCCTCCGTCTGCTACTCAGCTACCTGCTCCGTAGCGAGCGTACTCTCAGCTAGACTCTGAGCTAGCGTCTGCTACTCAGCTAGCGTGATTAA\n",
      "0.13892102241516113\n",
      "True\n",
      "0.08776235580444336\n",
      "True\n"
     ]
    }
   ],
   "source": [
    "## BFS\n",
    "# error 10% 100 copy kmer 24 prune > 1 bfs 0.006s total 0.13s\n",
    "# error 1% 50 copy kmer 24 prune > 6 0.003s\n",
    "# error 4% 50 copy kmer 24 prune > 6 bfs 0.004s total 0.12s\n",
    "\n",
    "## Beam\n",
    "# k 50 kmer 24 ~ 0.14s\n",
    "\n",
    "# error 10% 50 copy kmer 24 prune > 1 BFS die, Beam 50 ok ~ 0.2s\n",
    "\n",
    "# original = str2ncs('$Pham Hong Son%')\n",
    "original = str2ncs('$Nam quoc son ha nam de cu, tuyet nhien dinh phan tai thien thu%')\n",
    "print(original)\n",
    "datas = errors_add(original, 0.04, 50)\n",
    "\n",
    "prune = 6\n",
    "decoder = Decoder(origin=original, prune=prune)\n",
    "start = time.time()\n",
    "decoder.build_graph(datas, len(original), kmer_size=24, visualization=False)\n",
    "# decoder.graph.draw_de_bruijn_graph(minimize_edge=True, weight_on=True)\n",
    "# decoder.graph.draw_de_bruijn_graph(pruned=True, minimize_edge=True, weight_on=True)\n",
    "rs = decoder.decode(BFS(min_weight=prune, db=0))\n",
    "# rs = decoder.decode(Beam(k=50, db=100))\n",
    "\n",
    "print(time.time() - start)\n",
    "print(rs[0])\n",
    "\n",
    "decoder = Decoder(origin=original, prune=prune)\n",
    "start = time.time()\n",
    "decoder.build_graph(datas, len(original), kmer_size=24, visualization=False)\n",
    "# decoder.graph.draw_de_bruijn_graph(minimize_edge=True, weight_on=True)\n",
    "# decoder.graph.draw_de_bruijn_graph(pruned=True, minimize_edge=True, weight_on=True)\n",
    "# rs = decoder.decode(BFS(min_weight=prune, db=100))\n",
    "rs = decoder.decode(Beam(k=20, db=0))\n",
    "\n",
    "print(time.time() - start)\n",
    "print(rs[0])\n",
    "# TTGAACGGCGGCTGTTAA\n",
    "# TTGAACGGCGGCTGTTAA\n",
    "# TTGAACGGCGACTGTTAA\n",
    "# TTGAACGGCGGCTGTTAA\n",
    "\n",
    "#TTGCTCACTACAAGCTATGATTGTTCAAGCTGATGTCTCAGCCGTACTAGCCTCACTACAAGCTACCTAAGCTCAGATCCGAGCTAGGATGACCTATAGAGCCTCCGTCTGCTACTCAGCTACCTGCTCCGTAGCGAGCGTACTCTCAGCTAGACTCTGAGCTAGCGTCTGCTACTCAGCTAGCGTGATTAA\n",
    "#TTGCTCACTACAAGCTAGACTCTGAGCTAGCGTCTGCTACTCAGCTAGGATGACCTATAGAGCCTCCGTAGCGAGCGTACTCTCAGCCGTACTAGCCTCACTACAAGCTATGATTGTTCAAGCTGATGTCTCAGCTACCTGCTCCGTCTGCTACTCAGCTACCTAAGCTCAGATCCGAGCTAGCGTGATTAA"
   ]
  },
  {
   "cell_type": "code",
   "execution_count": null,
   "metadata": {},
   "outputs": [],
   "source": [
    "decoder.graph.draw_de_bruijn_graph(minimize_edge=True, weight_on=True)\n",
    "decoder.graph.draw_de_bruijn_graph(pruned=True, minimize_edge=True, weight_on=False)\n"
   ]
  },
  {
   "cell_type": "code",
   "execution_count": null,
   "metadata": {},
   "outputs": [],
   "source": [
    "# TTGAACGGCGGCTGTTAA\n",
    "# TTGAACGGCGACTGTTAA\n",
    "# TTGAACGGCGACTGTTAA"
   ]
  },
  {
   "cell_type": "code",
   "execution_count": null,
   "metadata": {},
   "outputs": [],
   "source": [
    "# datas = ['GAGCGATGTCTC', 'GAGTGATGTTC', 'GAGTGTTGTCTC']\n",
    "# datas = ['GAGTGTTGTCTC']\n",
    "# datas = ['TAATGCCATGGGATGTT']\n",
    "# datas = ['AAAGGCGTTGAGGTT']\n",
    "original = 'AACGGCGGCTGT'\n",
    "datas = ['AACGGCGGCTGT', 'AACGGCGGCTGT', 'AACGGCGGCTGT', 'AACGGCGGCTGT']\n",
    "datas = ['AACGGCGGCTGT', 'AACGGCGACTGT', 'AACGGCGGCTGT', 'AACGGCGGCTGT']\n",
    "datas = ['AACGGCGGCTGT', 'AACGTGCGGCTGT', 'AACGGCGCTGT', 'AACGGCGGCTGT']\n",
    "\n",
    "original = str2ncs('$Pham Son%')\n",
    "print(original)\n",
    "datas = errors_add(original, 0.1, 20)\n",
    "\n",
    "graph = Graph(data = datas, data_length=len(original), kmer_size=15)\n",
    "graph.build()\n",
    "graph.draw_de_bruijn_graph(weight_on=False, minimize_edge=True, font_size=8)\n",
    "\n",
    "graph"
   ]
  },
  {
   "cell_type": "code",
   "execution_count": null,
   "metadata": {},
   "outputs": [],
   "source": [
    "datas"
   ]
  },
  {
   "cell_type": "code",
   "execution_count": null,
   "metadata": {},
   "outputs": [],
   "source": [
    "graph.get_vertexes()"
   ]
  },
  {
   "cell_type": "code",
   "execution_count": 13,
   "metadata": {},
   "outputs": [
    {
     "name": "stdout",
     "output_type": "stream",
     "text": [
      "TTGGAGCGTACTACAAGCTGATGTCTCTAA\n",
      "PSON\n"
     ]
    }
   ],
   "source": [
    "ncs = str2ncs('$Pham Son%')\n",
    "print(ncs)\n",
    "string = ncs2str('GAGTGATGTCTC')\n",
    "print(string)"
   ]
  },
  {
   "cell_type": "code",
   "execution_count": 11,
   "metadata": {},
   "outputs": [
    {
     "data": {
      "text/plain": [
       "{'foo': 'new', 'spam': 'eggs'}"
      ]
     },
     "execution_count": 11,
     "metadata": {},
     "output_type": "execute_result"
    }
   ],
   "source": [
    "my_dict = {'foo': 'bar', 'spam': 'eggs'}\n",
    "my_dict.update({'foo': 'new'})\n",
    "my_dict"
   ]
  },
  {
   "cell_type": "code",
   "execution_count": 43,
   "metadata": {},
   "outputs": [
    {
     "data": {
      "text/plain": [
       "[9, 7, 5.5, 4, 1]"
      ]
     },
     "execution_count": 43,
     "metadata": {},
     "output_type": "execute_result"
    }
   ],
   "source": [
    "a = [1, 5.5, 7, 4, 9]\n",
    "a.sort(reverse=True)\n",
    "a"
   ]
  }
 ],
 "metadata": {
  "interpreter": {
   "hash": "e73b57c9aff0d047a53b09c47a9af82e2111452f7cd66b8558371cabf636a918"
  },
  "kernelspec": {
   "display_name": "Python 3.8.12 ('ai4e')",
   "language": "python",
   "name": "python3"
  },
  "language_info": {
   "codemirror_mode": {
    "name": "ipython",
    "version": 3
   },
   "file_extension": ".py",
   "mimetype": "text/x-python",
   "name": "python",
   "nbconvert_exporter": "python",
   "pygments_lexer": "ipython3",
   "version": "3.8.12"
  },
  "orig_nbformat": 4
 },
 "nbformat": 4,
 "nbformat_minor": 2
}

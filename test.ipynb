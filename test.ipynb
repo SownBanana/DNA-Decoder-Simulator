{
 "cells": [
  {
   "cell_type": "code",
   "execution_count": 32,
   "metadata": {},
   "outputs": [
    {
     "name": "stdout",
     "output_type": "stream",
     "text": [
      "Vertex 0: -> 3 -> 2 -> 1 \n",
      "Vertex 1: -> 2 \n",
      "Vertex 2: \n",
      "Vertex 3: \n",
      "Vertex 4: \n",
      "\n"
     ]
    }
   ],
   "source": [
    "\n",
    "class AdjNode:\n",
    "    def __init__(self, value):\n",
    "        self.vertex = value\n",
    "        self.next = None\n",
    "\n",
    "\n",
    "class Graph:\n",
    "    def __init__(self, num):\n",
    "        self.V = num\n",
    "        self.graph = {}\n",
    "\n",
    "    # Add edges\n",
    "    def add_edge(self, s, d):\n",
    "\n",
    "        node = AdjNode(d)\n",
    "        if s in self.graph:\n",
    "            node.next = self.graph[s]\n",
    "            self.graph[s] = node\n",
    "        else:\n",
    "            self.graph.update({s: node})\n",
    "\n",
    "        # node = AdjNode(s)\n",
    "        # if d in self.graph:\n",
    "        #     node.next = self.graph[d]\n",
    "        #     self.graph[d] = node\n",
    "        # else:\n",
    "        #     self.graph.update({d: node})\n",
    "\n",
    "    # Print the graph\n",
    "    def __repr__(self):\n",
    "        s = \"\"\n",
    "        for i in range(self.V):\n",
    "            s += \"Vertex \" + str(i) + \":\"\n",
    "            if i in self.graph:\n",
    "                temp = self.graph[i]\n",
    "                while temp:\n",
    "                    s += \" -> {}\".format(temp.vertex)\n",
    "                    temp = temp.next\n",
    "            s +=\" \\n\"\n",
    "        return s\n",
    "\n",
    "\n",
    "if __name__ == \"__main__\":\n",
    "    V = 5\n",
    "\n",
    "    # Create graph and edges\n",
    "    graph = Graph(V)\n",
    "    graph.add_edge(0, 1)\n",
    "    graph.add_edge(0, 2)\n",
    "    graph.add_edge(0, 3)\n",
    "    graph.add_edge(1, 2)\n",
    "\n",
    "    print(graph)"
   ]
  },
  {
   "cell_type": "code",
   "execution_count": 22,
   "metadata": {},
   "outputs": [
    {
     "name": "stdout",
     "output_type": "stream",
     "text": [
      "Vertex 0: -> 3 -> 2 -> 1 \n",
      "\n",
      "Vertex 1: -> 2 -> 0 \n",
      "\n",
      "Vertex 2: -> 1 -> 0 \n",
      "\n",
      "Vertex 3: -> 0 \n",
      "\n",
      "Vertex 4: \n",
      "\n"
     ]
    }
   ],
   "source": [
    "# Adjascency List representation in Python\n",
    "\n",
    "\n",
    "class AdjNode:\n",
    "    def __init__(self, value):\n",
    "        self.vertex = value\n",
    "        self.next = None\n",
    "\n",
    "\n",
    "class Graph:\n",
    "    def __init__(self, num):\n",
    "        self.V = num\n",
    "        self.graph = [None] * self.V\n",
    "\n",
    "    # Add edges\n",
    "    def add_edge(self, s, d):\n",
    "        node = AdjNode(d)\n",
    "        if self.graph[s]:\n",
    "            node.next = self.graph[s]\n",
    "        self.graph[s] = node\n",
    "\n",
    "        node = AdjNode(s)\n",
    "        if self.graph[d]:\n",
    "            node.next = self.graph[d]\n",
    "        self.graph[d] = node\n",
    "\n",
    "    # Print the graph\n",
    "    def print_agraph(self):\n",
    "        for i in range(self.V):\n",
    "            print(\"Vertex \" + str(i) + \":\", end=\"\")\n",
    "            temp = self.graph[i]\n",
    "            while temp:\n",
    "                print(\" -> {}\".format(temp.vertex), end=\"\")\n",
    "                temp = temp.next\n",
    "            print(\" \\n\")\n",
    "        \n",
    "\n",
    "\n",
    "if __name__ == \"__main__\":\n",
    "    V = 5\n",
    "\n",
    "    # Create graph and edges\n",
    "    graph = Graph(V)\n",
    "    graph.add_edge(0, 1)\n",
    "    graph.add_edge(0, 2)\n",
    "    graph.add_edge(0, 3)\n",
    "    graph.add_edge(1, 2)\n",
    "\n",
    "    graph.print_agraph()"
   ]
  },
  {
   "cell_type": "code",
   "execution_count": 33,
   "metadata": {},
   "outputs": [
    {
     "name": "stdout",
     "output_type": "stream",
     "text": [
      "['12', '34', '56', '78', '9']\n"
     ]
    }
   ],
   "source": [
    "import textwrap\n",
    "print(textwrap.wrap(\"123456789\", 2))\n",
    "#prints ['12', '34', '56', '78', '9']"
   ]
  }
 ],
 "metadata": {
  "interpreter": {
   "hash": "e73b57c9aff0d047a53b09c47a9af82e2111452f7cd66b8558371cabf636a918"
  },
  "kernelspec": {
   "display_name": "Python 3.8.12 64-bit ('ai4e': conda)",
   "language": "python",
   "name": "python3"
  },
  "language_info": {
   "codemirror_mode": {
    "name": "ipython",
    "version": 3
   },
   "file_extension": ".py",
   "mimetype": "text/x-python",
   "name": "python",
   "nbconvert_exporter": "python",
   "pygments_lexer": "ipython3",
   "version": "3.8.12"
  },
  "orig_nbformat": 4
 },
 "nbformat": 4,
 "nbformat_minor": 2
}
